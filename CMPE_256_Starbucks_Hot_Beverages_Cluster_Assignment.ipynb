{
  "nbformat": 4,
  "nbformat_minor": 0,
  "metadata": {
    "colab": {
      "name": "CMPE 256 Starbucks Hot Beverages Cluster Assignment.ipynb",
      "provenance": [],
      "authorship_tag": "ABX9TyP8glKVG72MzobE1krBOCEw",
      "include_colab_link": true
    },
    "kernelspec": {
      "name": "python3",
      "display_name": "Python 3"
    },
    "language_info": {
      "name": "python"
    }
  },
  "cells": [
    {
      "cell_type": "markdown",
      "metadata": {
        "id": "view-in-github",
        "colab_type": "text"
      },
      "source": [
        "<a href=\"https://colab.research.google.com/github/AbrahamKong/CMPE256-Starbucks_Hot_Beverages_Cluster_Assignment/blob/main/CMPE_256_Starbucks_Hot_Beverages_Cluster_Assignment.ipynb\" target=\"_parent\"><img src=\"https://colab.research.google.com/assets/colab-badge.svg\" alt=\"Open In Colab\"/></a>"
      ]
    },
    {
      "cell_type": "code",
      "metadata": {
        "id": "LUAz9lecwgfo"
      },
      "source": [
        "# import necessary library\n",
        "\n",
        "import numpy as np\n",
        "import pandas as pd\n",
        "import matplotlib.pyplot as plt\n",
        "import seaborn as sns\n",
        "\n",
        "from scipy.cluster.hierarchy import linkage, fcluster, dendrogram"
      ],
      "execution_count": null,
      "outputs": []
    },
    {
      "cell_type": "code",
      "metadata": {
        "colab": {
          "base_uri": "https://localhost:8080/",
          "height": 204
        },
        "id": "xxerfJHO0Nqq",
        "outputId": "c09994b0-40a1-40c3-ccc2-c40897d5f027"
      },
      "source": [
        "# Input points based on given assignments\n",
        "\n",
        "points = pd.read_csv(\"/content/data.csv\")\n",
        "points.head()"
      ],
      "execution_count": null,
      "outputs": [
        {
          "output_type": "execute_result",
          "data": {
            "text/html": [
              "<div>\n",
              "<style scoped>\n",
              "    .dataframe tbody tr th:only-of-type {\n",
              "        vertical-align: middle;\n",
              "    }\n",
              "\n",
              "    .dataframe tbody tr th {\n",
              "        vertical-align: top;\n",
              "    }\n",
              "\n",
              "    .dataframe thead th {\n",
              "        text-align: right;\n",
              "    }\n",
              "</style>\n",
              "<table border=\"1\" class=\"dataframe\">\n",
              "  <thead>\n",
              "    <tr style=\"text-align: right;\">\n",
              "      <th></th>\n",
              "      <th>PTIndex</th>\n",
              "      <th>HBIndex</th>\n",
              "    </tr>\n",
              "  </thead>\n",
              "  <tbody>\n",
              "    <tr>\n",
              "      <th>0</th>\n",
              "      <td>1</td>\n",
              "      <td>5</td>\n",
              "    </tr>\n",
              "    <tr>\n",
              "      <th>1</th>\n",
              "      <td>1</td>\n",
              "      <td>7</td>\n",
              "    </tr>\n",
              "    <tr>\n",
              "      <th>2</th>\n",
              "      <td>2</td>\n",
              "      <td>6</td>\n",
              "    </tr>\n",
              "    <tr>\n",
              "      <th>3</th>\n",
              "      <td>2</td>\n",
              "      <td>9</td>\n",
              "    </tr>\n",
              "    <tr>\n",
              "      <th>4</th>\n",
              "      <td>3</td>\n",
              "      <td>6</td>\n",
              "    </tr>\n",
              "  </tbody>\n",
              "</table>\n",
              "</div>"
            ],
            "text/plain": [
              "   PTIndex  HBIndex\n",
              "0        1        5\n",
              "1        1        7\n",
              "2        2        6\n",
              "3        2        9\n",
              "4        3        6"
            ]
          },
          "metadata": {},
          "execution_count": 4
        }
      ]
    },
    {
      "cell_type": "code",
      "metadata": {
        "id": "QXg8KHEG0rf3"
      },
      "source": [
        "# Choose not to whiten out the data to keeep the original time slot"
      ],
      "execution_count": null,
      "outputs": []
    },
    {
      "cell_type": "markdown",
      "metadata": {
        "id": "coa4U0gwCMfv"
      },
      "source": [
        "**Single-Link**"
      ]
    },
    {
      "cell_type": "code",
      "metadata": {
        "colab": {
          "base_uri": "https://localhost:8080/",
          "height": 296
        },
        "id": "OiW9ILQ1CIb_",
        "outputId": "196bf71f-cd37-4851-d396-40af86e0b1ee"
      },
      "source": [
        "# Assign distance matrix and plot the clusters\n",
        "\n",
        "distance_matrix = linkage(points[['PTIndex', 'HBIndex']], method='single', metric='euclidean')\n",
        "\n",
        "points['cluster_labels'] = fcluster(distance_matrix, 3, criterion='maxclust')\n",
        "\n",
        "sns.scatterplot(x = 'PTIndex', y = 'HBIndex', hue='cluster_labels', data=points)"
      ],
      "execution_count": null,
      "outputs": [
        {
          "output_type": "execute_result",
          "data": {
            "text/plain": [
              "<matplotlib.axes._subplots.AxesSubplot at 0x7f824cd2a450>"
            ]
          },
          "metadata": {},
          "execution_count": 14
        },
        {
          "output_type": "display_data",
          "data": {
            "image/png": "[encoded data removed]",
            "text/plain": [
              "<Figure size 432x288 with 1 Axes>"
            ]
          },
          "metadata": {
            "needs_background": "light"
          }
        }
      ]
    },
    {
      "cell_type": "code",
      "metadata": {
        "colab": {
          "base_uri": "https://localhost:8080/",
          "height": 268
        },
        "id": "CSbk23V79WQ8",
        "outputId": "312b4ef9-0fc5-418f-c4b9-49a6885ca40a"
      },
      "source": [
        "# Draw dendrogram\n",
        "\n",
        "dn = dendrogram(distance_matrix)"
      ],
      "execution_count": null,
      "outputs": [
        {
          "output_type": "display_data",
          "data": {
            "image/png": "[encoded data removed]",
            "text/plain": [
              "<Figure size 432x288 with 1 Axes>"
            ]
          },
          "metadata": {
            "needs_background": "light"
          }
        }
      ]
    },
    {
      "cell_type": "markdown",
      "metadata": {
        "id": "97mjXfn0CP-L"
      },
      "source": [
        "**Average-Link**"
      ]
    },
    {
      "cell_type": "code",
      "metadata": {
        "colab": {
          "base_uri": "https://localhost:8080/",
          "height": 296
        },
        "id": "cgcw0vMW8ULW",
        "outputId": "12c50b18-2664-4ba6-9d2b-7d86a3930cf4"
      },
      "source": [
        "distance_matrix = linkage(points[['PTIndex', 'HBIndex']], method='average', metric='euclidean')\n",
        "\n",
        "points['cluster_labels'] = fcluster(distance_matrix, 3, criterion='maxclust')\n",
        "\n",
        "sns.scatterplot(x = 'PTIndex', y = 'HBIndex', hue='cluster_labels', data=points)"
      ],
      "execution_count": null,
      "outputs": [
        {
          "output_type": "execute_result",
          "data": {
            "text/plain": [
              "<matplotlib.axes._subplots.AxesSubplot at 0x7f8243fab550>"
            ]
          },
          "metadata": {},
          "execution_count": 20
        },
        {
          "output_type": "display_data",
          "data": {
            "image/png": "[encoded data removed]",
            "text/plain": [
              "<Figure size 432x288 with 1 Axes>"
            ]
          },
          "metadata": {
            "needs_background": "light"
          }
        }
      ]
    },
    {
      "cell_type": "code",
      "metadata": {
        "colab": {
          "base_uri": "https://localhost:8080/",
          "height": 268
        },
        "id": "_oUCskPP9ZhX",
        "outputId": "3a6dba45-f711-4a2a-cb19-2b06c7da480b"
      },
      "source": [
        "dn2 = dendrogram(distance_matrix)"
      ],
      "execution_count": null,
      "outputs": [
        {
          "output_type": "display_data",
          "data": {
            "image/png": "[encoded data removed]",
            "text/plain": [
              "<Figure size 432x288 with 1 Axes>"
            ]
          },
          "metadata": {
            "needs_background": "light"
          }
        }
      ]
    },
    {
      "cell_type": "markdown",
      "metadata": {
        "id": "bE_41AVKCZ8M"
      },
      "source": [
        "**Complete-Link**"
      ]
    },
    {
      "cell_type": "code",
      "metadata": {
        "colab": {
          "base_uri": "https://localhost:8080/",
          "height": 296
        },
        "id": "JKpuHYRH8t-I",
        "outputId": "61977457-1b13-44af-d8e3-20f8d943b0e0"
      },
      "source": [
        "distance_matrix = linkage(points[['pt', 'hb']], method='complete', metric='euclidean')\n",
        "\n",
        "points['cluster_labels'] = fcluster(distance_matrix, 3, criterion='maxclust')\n",
        "\n",
        "sns.scatterplot(x = 'pt', y = 'hb', hue='cluster_labels', data=points)"
      ],
      "execution_count": null,
      "outputs": [
        {
          "output_type": "execute_result",
          "data": {
            "text/plain": [
              "<matplotlib.axes._subplots.AxesSubplot at 0x7f8244021350>"
            ]
          },
          "metadata": {},
          "execution_count": 18
        },
        {
          "output_type": "display_data",
          "data": {
            "image/png": "[encoded data removed]",
            "text/plain": [
              "<Figure size 432x288 with 1 Axes>"
            ]
          },
          "metadata": {
            "needs_background": "light"
          }
        }
      ]
    },
    {
      "cell_type": "code",
      "metadata": {
        "colab": {
          "base_uri": "https://localhost:8080/",
          "height": 268
        },
        "id": "UxAmjb559cfF",
        "outputId": "d34f1998-32c8-498d-e12b-54d9597f053c"
      },
      "source": [
        "dn3 = dendrogram(distance_matrix)"
      ],
      "execution_count": null,
      "outputs": [
        {
          "output_type": "display_data",
          "data": {
            "image/png": "[encoded data removed]",
            "text/plain": [
              "<Figure size 432x288 with 1 Axes>"
            ]
          },
          "metadata": {
            "needs_background": "light"
          }
        }
      ]
    },
    {
      "cell_type": "code",
      "metadata": {
        "id": "MPHTc6ykRyeo"
      },
      "source": [
        ""
      ],
      "execution_count": null,
      "outputs": []
    }
  ]
}