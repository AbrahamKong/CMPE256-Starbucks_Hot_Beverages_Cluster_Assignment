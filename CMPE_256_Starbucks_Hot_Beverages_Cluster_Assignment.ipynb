{
  "nbformat": 4,
  "nbformat_minor": 0,
  "metadata": {
    "colab": {
      "name": "CMPE 256 Starbucks Hot Beverages Cluster Assignment.ipynb",
      "provenance": [],
      "authorship_tag": "ABX9TyM5QjpFvNhSIug3zD3pxEYP",
      "include_colab_link": true
    },
    "kernelspec": {
      "name": "python3",
      "display_name": "Python 3"
    },
    "language_info": {
      "name": "python"
    }
  },
  "cells": [
    {
      "cell_type": "markdown",
      "metadata": {
        "id": "view-in-github",
        "colab_type": "text"
      },
      "source": [
        "<a href=\"https://colab.research.google.com/github/AbrahamKong/CMPE256-Starbucks_Hot_Beverages_Cluster_Assignment/blob/main/CMPE_256_Starbucks_Hot_Beverages_Cluster_Assignment.ipynb\" target=\"_parent\"><img src=\"https://colab.research.google.com/assets/colab-badge.svg\" alt=\"Open In Colab\"/></a>"
      ]
    },
    {
      "cell_type": "code",
      "metadata": {
        "id": "LUAz9lecwgfo"
      },
      "source": [
        "# import necessary library\n",
        "\n",
        "import numpy as np\n",
        "import pandas as pd\n",
        "import matplotlib.pyplot as plt\n",
        "import seaborn as sns\n",
        "\n",
        "from scipy.cluster.hierarchy import linkage, fcluster, dendrogram"
      ],
      "execution_count": 21,
      "outputs": []
    },
    {
      "cell_type": "code",
      "metadata": {
        "colab": {
          "base_uri": "https://localhost:8080/",
          "height": 204
        },
        "id": "xxerfJHO0Nqq",
        "outputId": "86d163dc-a898-46f9-a143-61099944adb1"
      },
      "source": [
        "# Input points based on given assignments\n",
        "\n",
        "points = pd.read_csv(\"/content/data.csv\")\n",
        "points.head()"
      ],
      "execution_count": 22,
      "outputs": [
        {
          "output_type": "execute_result",
          "data": {
            "text/html": [
              "<div>\n",
              "<style scoped>\n",
              "    .dataframe tbody tr th:only-of-type {\n",
              "        vertical-align: middle;\n",
              "    }\n",
              "\n",
              "    .dataframe tbody tr th {\n",
              "        vertical-align: top;\n",
              "    }\n",
              "\n",
              "    .dataframe thead th {\n",
              "        text-align: right;\n",
              "    }\n",
              "</style>\n",
              "<table border=\"1\" class=\"dataframe\">\n",
              "  <thead>\n",
              "    <tr style=\"text-align: right;\">\n",
              "      <th></th>\n",
              "      <th>PTIndex</th>\n",
              "      <th>HBIndex</th>\n",
              "    </tr>\n",
              "  </thead>\n",
              "  <tbody>\n",
              "    <tr>\n",
              "      <th>0</th>\n",
              "      <td>1</td>\n",
              "      <td>5</td>\n",
              "    </tr>\n",
              "    <tr>\n",
              "      <th>1</th>\n",
              "      <td>1</td>\n",
              "      <td>7</td>\n",
              "    </tr>\n",
              "    <tr>\n",
              "      <th>2</th>\n",
              "      <td>2</td>\n",
              "      <td>6</td>\n",
              "    </tr>\n",
              "    <tr>\n",
              "      <th>3</th>\n",
              "      <td>2</td>\n",
              "      <td>9</td>\n",
              "    </tr>\n",
              "    <tr>\n",
              "      <th>4</th>\n",
              "      <td>3</td>\n",
              "      <td>6</td>\n",
              "    </tr>\n",
              "  </tbody>\n",
              "</table>\n",
              "</div>"
            ],
            "text/plain": [
              "   PTIndex  HBIndex\n",
              "0        1        5\n",
              "1        1        7\n",
              "2        2        6\n",
              "3        2        9\n",
              "4        3        6"
            ]
          },
          "metadata": {},
          "execution_count": 22
        }
      ]
    },
    {
      "cell_type": "code",
      "metadata": {
        "id": "QXg8KHEG0rf3"
      },
      "source": [
        "# Choose not to whiten out the data to keeep the original time slot"
      ],
      "execution_count": 23,
      "outputs": []
    },
    {
      "cell_type": "markdown",
      "metadata": {
        "id": "coa4U0gwCMfv"
      },
      "source": [
        "**Single-Link**"
      ]
    },
    {
      "cell_type": "code",
      "metadata": {
        "colab": {
          "base_uri": "https://localhost:8080/",
          "height": 296
        },
        "id": "OiW9ILQ1CIb_",
        "outputId": "5f5e38aa-1c57-4588-a811-569e291f8f35"
      },
      "source": [
        "# Assign distance matrix and plot the clusters\n",
        "\n",
        "distance_matrix = linkage(points[['PTIndex', 'HBIndex']], method='single', metric='euclidean')\n",
        "\n",
        "points['cluster_labels'] = fcluster(distance_matrix, 3, criterion='maxclust')\n",
        "\n",
        "sns.scatterplot(x = 'PTIndex', y = 'HBIndex', hue='cluster_labels', data=points)"
      ],
      "execution_count": 24,
      "outputs": [
        {
          "output_type": "execute_result",
          "data": {
            "text/plain": [
              "<matplotlib.axes._subplots.AxesSubplot at 0x7f8243ea9390>"
            ]
          },
          "metadata": {},
          "execution_count": 24
        },
        {
          "output_type": "display_data",
          "data": {
            "image/png": "[encoded data removed]",
            "text/plain": [
              "<Figure size 432x288 with 1 Axes>"
            ]
          },
          "metadata": {
            "needs_background": "light"
          }
        }
      ]
    },
    {
      "cell_type": "code",
      "metadata": {
        "colab": {
          "base_uri": "https://localhost:8080/",
          "height": 268
        },
        "id": "CSbk23V79WQ8",
        "outputId": "7818b936-414e-4a96-b11e-49722f84dbe6"
      },
      "source": [
        "# Draw dendrogram\n",
        "\n",
        "dn = dendrogram(distance_matrix)"
      ],
      "execution_count": 25,
      "outputs": [
        {
          "output_type": "display_data",
          "data": {
            "image/png": "[encoded data removed]",
            "text/plain": [
              "<Figure size 432x288 with 1 Axes>"
            ]
          },
          "metadata": {
            "needs_background": "light"
          }
        }
      ]
    },
    {
      "cell_type": "markdown",
      "metadata": {
        "id": "97mjXfn0CP-L"
      },
      "source": [
        "**Average-Link**"
      ]
    },
    {
      "cell_type": "code",
      "metadata": {
        "colab": {
          "base_uri": "https://localhost:8080/",
          "height": 296
        },
        "id": "cgcw0vMW8ULW",
        "outputId": "753cf791-c8b8-4082-9969-1e71ced70a74"
      },
      "source": [
        "distance_matrix = linkage(points[['PTIndex', 'HBIndex']], method='average', metric='euclidean')\n",
        "\n",
        "points['cluster_labels'] = fcluster(distance_matrix, 3, criterion='maxclust')\n",
        "\n",
        "sns.scatterplot(x = 'PTIndex', y = 'HBIndex', hue='cluster_labels', data=points)"
      ],
      "execution_count": 26,
      "outputs": [
        {
          "output_type": "execute_result",
          "data": {
            "text/plain": [
              "<matplotlib.axes._subplots.AxesSubplot at 0x7f8244029750>"
            ]
          },
          "metadata": {},
          "execution_count": 26
        },
        {
          "output_type": "display_data",
          "data": {
            "image/png": "[encoded data removed]",
            "text/plain": [
              "<Figure size 432x288 with 1 Axes>"
            ]
          },
          "metadata": {
            "needs_background": "light"
          }
        }
      ]
    },
    {
      "cell_type": "code",
      "metadata": {
        "colab": {
          "base_uri": "https://localhost:8080/",
          "height": 268
        },
        "id": "_oUCskPP9ZhX",
        "outputId": "6413dd66-cc2d-4230-f69a-892253bc7d6a"
      },
      "source": [
        "dn2 = dendrogram(distance_matrix)"
      ],
      "execution_count": 27,
      "outputs": [
        {
          "output_type": "display_data",
          "data": {
            "image/png": "[encoded data removed]",
            "text/plain": [
              "<Figure size 432x288 with 1 Axes>"
            ]
          },
          "metadata": {
            "needs_background": "light"
          }
        }
      ]
    },
    {
      "cell_type": "markdown",
      "metadata": {
        "id": "bE_41AVKCZ8M"
      },
      "source": [
        "**Complete-Link**"
      ]
    },
    {
      "cell_type": "code",
      "metadata": {
        "colab": {
          "base_uri": "https://localhost:8080/",
          "height": 296
        },
        "id": "JKpuHYRH8t-I",
        "outputId": "cdade20f-871b-4268-a9ef-7864c7743e23"
      },
      "source": [
        "distance_matrix = linkage(points[['PTIndex', 'HBIndex']], method='complete', metric='euclidean')\n",
        "\n",
        "points['cluster_labels'] = fcluster(distance_matrix, 3, criterion='maxclust')\n",
        "\n",
        "sns.scatterplot(x = 'PTIndex', y = 'HBIndex', hue='cluster_labels', data=points)"
      ],
      "execution_count": 28,
      "outputs": [
        {
          "output_type": "execute_result",
          "data": {
            "text/plain": [
              "<matplotlib.axes._subplots.AxesSubplot at 0x7f824d1d0b10>"
            ]
          },
          "metadata": {},
          "execution_count": 28
        },
        {
          "output_type": "display_data",
          "data": {
            "image/png": "[encoded data removed]",
            "text/plain": [
              "<Figure size 432x288 with 1 Axes>"
            ]
          },
          "metadata": {
            "needs_background": "light"
          }
        }
      ]
    },
    {
      "cell_type": "code",
      "metadata": {
        "colab": {
          "base_uri": "https://localhost:8080/",
          "height": 268
        },
        "id": "UxAmjb559cfF",
        "outputId": "105a4356-5c4f-4034-f330-180b425436c5"
      },
      "source": [
        "dn3 = dendrogram(distance_matrix)"
      ],
      "execution_count": 29,
      "outputs": [
        {
          "output_type": "display_data",
          "data": {
            "image/png": "[encoded data removed]",
            "text/plain": [
              "<Figure size 432x288 with 1 Axes>"
            ]
          },
          "metadata": {
            "needs_background": "light"
          }
        }
      ]
    },
    {
      "cell_type": "code",
      "metadata": {
        "id": "MPHTc6ykRyeo"
      },
      "source": [
        ""
      ],
      "execution_count": null,
      "outputs": []
    }
  ]
}